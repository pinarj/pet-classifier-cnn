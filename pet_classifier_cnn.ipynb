{
  "nbformat": 4,
  "nbformat_minor": 0,
  "metadata": {
    "colab": {
      "provenance": []
    },
    "kernelspec": {
      "name": "python3",
      "display_name": "Python 3"
    },
    "language_info": {
      "name": "python"
    }
  },
  "cells": [
    {
      "cell_type": "code",
      "execution_count": 2,
      "metadata": {
        "id": "MaybZvUUtcwE",
        "colab": {
          "base_uri": "https://localhost:8080/"
        },
        "outputId": "246b1604-3635-473b-baa4-917571cf26c5"
      },
      "outputs": [
        {
          "output_type": "stream",
          "name": "stdout",
          "text": [
            "Drive already mounted at /content/drive; to attempt to forcibly remount, call drive.mount(\"/content/drive\", force_remount=True).\n"
          ]
        }
      ],
      "source": [
        "from google.colab import drive\n",
        "drive.mount('/content/drive')\n"
      ]
    },
    {
      "cell_type": "code",
      "source": [
        "zip_path = '/content/drive/MyDrive/test_set.zip'\n"
      ],
      "metadata": {
        "id": "lMNLJoO6vpX7"
      },
      "execution_count": 3,
      "outputs": []
    },
    {
      "cell_type": "code",
      "source": [
        "import zipfile\n",
        "\n",
        "with zipfile.ZipFile(zip_path, 'r') as zip_ref:\n",
        "    zip_ref.extractall('/content/test_set')\n",
        "\n",
        "print(\"Dosya başarıyla çıkarıldı.\")\n"
      ],
      "metadata": {
        "colab": {
          "base_uri": "https://localhost:8080/"
        },
        "id": "bDjlhteevqVK",
        "outputId": "edfca4b4-b245-4f8d-d7fd-03f19b18a005"
      },
      "execution_count": 4,
      "outputs": [
        {
          "output_type": "stream",
          "name": "stdout",
          "text": [
            "Dosya başarıyla çıkarıldı.\n"
          ]
        }
      ]
    },
    {
      "cell_type": "code",
      "source": [
        "import os\n",
        "print(os.listdir('/content/test_set'))\n"
      ],
      "metadata": {
        "colab": {
          "base_uri": "https://localhost:8080/"
        },
        "id": "dJsgyQsivuwY",
        "outputId": "7e2f1a9a-3071-4dca-e99f-618555caa9bd"
      },
      "execution_count": 5,
      "outputs": [
        {
          "output_type": "stream",
          "name": "stdout",
          "text": [
            "['test_set']\n"
          ]
        }
      ]
    },
    {
      "cell_type": "code",
      "source": [
        "# TensorFlow ve veri işleme için gereken kütüphaneleri içe aktarıyoruz\n",
        "import tensorflow as tf\n",
        "from tensorflow.keras.preprocessing.image import ImageDataGenerator\n"
      ],
      "metadata": {
        "id": "MVkiZ8Dbv-PC"
      },
      "execution_count": 6,
      "outputs": []
    },
    {
      "cell_type": "code",
      "source": [
        "# Eğitim verilerini 1.0'a bölerek normalleştiriyoruz, yeniden boyutlandırma ve augment işlemleri yapıyoruz\n",
        "train_datagen = ImageDataGenerator(rescale=1./255, validation_split=0.2)  # %80 eğitim, %20 doğrulama\n"
      ],
      "metadata": {
        "id": "dGxPKFMmwPr_"
      },
      "execution_count": 7,
      "outputs": []
    },
    {
      "cell_type": "code",
      "source": [
        "train_generator = train_datagen.flow_from_directory(\n",
        "    '/content/test_set',           # Görsellerin bulunduğu ana klasör\n",
        "    target_size=(100, 100),        # Tüm resimleri 100x100 boyutuna getir\n",
        "    batch_size=32,                 # Her seferde 32 görsel alınır\n",
        "    class_mode='binary',           # Sınıflar ikili: kedi(0) / köpek(1)\n",
        "    subset='training'              # Eğitim verisi\n",
        ")\n",
        "\n",
        "validation_generator = train_datagen.flow_from_directory(\n",
        "    '/content/test_set',\n",
        "    target_size=(100, 100),\n",
        "    batch_size=32,\n",
        "    class_mode='binary',\n",
        "    subset='validation'            # Doğrulama verisi\n",
        ")\n"
      ],
      "metadata": {
        "colab": {
          "base_uri": "https://localhost:8080/"
        },
        "id": "vYdcg6lzwX1K",
        "outputId": "970bf88b-1443-42b1-a00d-c9c2603ce5c7"
      },
      "execution_count": 8,
      "outputs": [
        {
          "output_type": "stream",
          "name": "stdout",
          "text": [
            "Found 1619 images belonging to 1 classes.\n",
            "Found 404 images belonging to 1 classes.\n"
          ]
        }
      ]
    },
    {
      "cell_type": "code",
      "source": [
        "# Basit bir Convolutional Neural Network (CNN) modeli\n",
        "model = tf.keras.models.Sequential([\n",
        "    tf.keras.layers.Conv2D(32, (3, 3), activation='relu', input_shape=(100, 100, 3)),  # 3 renk kanalı\n",
        "    tf.keras.layers.MaxPooling2D(2, 2),\n",
        "\n",
        "    tf.keras.layers.Conv2D(64, (3, 3), activation='relu'),\n",
        "    tf.keras.layers.MaxPooling2D(2, 2),\n",
        "\n",
        "    tf.keras.layers.Flatten(),\n",
        "    tf.keras.layers.Dense(128, activation='relu'),\n",
        "    tf.keras.layers.Dense(1, activation='sigmoid')  # Çıkış katmanı (ikili sınıflama için)\n",
        "])\n"
      ],
      "metadata": {
        "colab": {
          "base_uri": "https://localhost:8080/"
        },
        "id": "UdbUNTlYwgcP",
        "outputId": "be9a0323-8387-4123-b687-f66cffddca9a"
      },
      "execution_count": 9,
      "outputs": [
        {
          "output_type": "stream",
          "name": "stderr",
          "text": [
            "/usr/local/lib/python3.11/dist-packages/keras/src/layers/convolutional/base_conv.py:107: UserWarning: Do not pass an `input_shape`/`input_dim` argument to a layer. When using Sequential models, prefer using an `Input(shape)` object as the first layer in the model instead.\n",
            "  super().__init__(activity_regularizer=activity_regularizer, **kwargs)\n"
          ]
        }
      ]
    },
    {
      "cell_type": "code",
      "source": [
        "model.compile(\n",
        "    loss='binary_crossentropy',  # 0 ve 1 sınıfları için uygun kayıp fonksiyonu\n",
        "    optimizer='adam',            # Öğrenme sürecinde kullanılacak algoritma\n",
        "    metrics=['accuracy']         # Eğitimi takip etmek için doğruluk metriği\n",
        ")\n"
      ],
      "metadata": {
        "id": "DSzBD9HXwk3o"
      },
      "execution_count": 10,
      "outputs": []
    },
    {
      "cell_type": "code",
      "source": [
        "# Modeli eğitiyoruz\n",
        "history = model.fit(\n",
        "    train_generator,\n",
        "    epochs=10,                        # 10 defa eğitim döngüsü\n",
        "    validation_data=validation_generator\n",
        ")\n"
      ],
      "metadata": {
        "colab": {
          "base_uri": "https://localhost:8080/"
        },
        "id": "vfF2kzYzwoh_",
        "outputId": "1be98119-fdd7-4730-937b-03c458261c1e"
      },
      "execution_count": 11,
      "outputs": [
        {
          "output_type": "stream",
          "name": "stderr",
          "text": [
            "/usr/local/lib/python3.11/dist-packages/keras/src/trainers/data_adapters/py_dataset_adapter.py:121: UserWarning: Your `PyDataset` class should call `super().__init__(**kwargs)` in its constructor. `**kwargs` can include `workers`, `use_multiprocessing`, `max_queue_size`. Do not pass these arguments to `fit()`, as they will be ignored.\n",
            "  self._warn_if_super_not_called()\n"
          ]
        },
        {
          "output_type": "stream",
          "name": "stdout",
          "text": [
            "Epoch 1/10\n",
            "\u001b[1m51/51\u001b[0m \u001b[32m━━━━━━━━━━━━━━━━━━━━\u001b[0m\u001b[37m\u001b[0m \u001b[1m0s\u001b[0m 546ms/step - accuracy: 1.0000 - loss: 0.0575"
          ]
        },
        {
          "output_type": "stream",
          "name": "stderr",
          "text": [
            "/usr/local/lib/python3.11/dist-packages/keras/src/trainers/data_adapters/py_dataset_adapter.py:121: UserWarning: Your `PyDataset` class should call `super().__init__(**kwargs)` in its constructor. `**kwargs` can include `workers`, `use_multiprocessing`, `max_queue_size`. Do not pass these arguments to `fit()`, as they will be ignored.\n",
            "  self._warn_if_super_not_called()\n"
          ]
        },
        {
          "output_type": "stream",
          "name": "stdout",
          "text": [
            "\b\b\b\b\b\b\b\b\b\b\b\b\b\b\b\b\b\b\b\b\b\b\b\b\b\b\b\b\b\b\b\b\b\b\b\b\b\b\b\b\b\b\b\b\b\b\b\b\b\b\b\b\b\b\b\b\b\b\b\b\b\b\b\b\b\b\b\b\b\b\b\b\b\b\r\u001b[1m51/51\u001b[0m \u001b[32m━━━━━━━━━━━━━━━━━━━━\u001b[0m\u001b[37m\u001b[0m \u001b[1m32s\u001b[0m 593ms/step - accuracy: 1.0000 - loss: 0.0567 - val_accuracy: 1.0000 - val_loss: 1.3427e-33\n",
            "Epoch 2/10\n",
            "\u001b[1m51/51\u001b[0m \u001b[32m━━━━━━━━━━━━━━━━━━━━\u001b[0m\u001b[37m\u001b[0m \u001b[1m30s\u001b[0m 591ms/step - accuracy: 1.0000 - loss: 1.3377e-25 - val_accuracy: 1.0000 - val_loss: 5.8306e-34\n",
            "Epoch 3/10\n",
            "\u001b[1m51/51\u001b[0m \u001b[32m━━━━━━━━━━━━━━━━━━━━\u001b[0m\u001b[37m\u001b[0m \u001b[1m30s\u001b[0m 587ms/step - accuracy: 1.0000 - loss: 9.5939e-26 - val_accuracy: 1.0000 - val_loss: 5.8005e-34\n",
            "Epoch 4/10\n",
            "\u001b[1m51/51\u001b[0m \u001b[32m━━━━━━━━━━━━━━━━━━━━\u001b[0m\u001b[37m\u001b[0m \u001b[1m29s\u001b[0m 575ms/step - accuracy: 1.0000 - loss: 3.8288e-26 - val_accuracy: 1.0000 - val_loss: 5.8005e-34\n",
            "Epoch 5/10\n",
            "\u001b[1m51/51\u001b[0m \u001b[32m━━━━━━━━━━━━━━━━━━━━\u001b[0m\u001b[37m\u001b[0m \u001b[1m29s\u001b[0m 577ms/step - accuracy: 1.0000 - loss: 9.3870e-26 - val_accuracy: 1.0000 - val_loss: 5.8005e-34\n",
            "Epoch 6/10\n",
            "\u001b[1m51/51\u001b[0m \u001b[32m━━━━━━━━━━━━━━━━━━━━\u001b[0m\u001b[37m\u001b[0m \u001b[1m41s\u001b[0m 578ms/step - accuracy: 1.0000 - loss: 1.8981e-26 - val_accuracy: 1.0000 - val_loss: 5.8005e-34\n",
            "Epoch 7/10\n",
            "\u001b[1m51/51\u001b[0m \u001b[32m━━━━━━━━━━━━━━━━━━━━\u001b[0m\u001b[37m\u001b[0m \u001b[1m29s\u001b[0m 579ms/step - accuracy: 1.0000 - loss: 1.7651e-26 - val_accuracy: 1.0000 - val_loss: 5.8005e-34\n",
            "Epoch 8/10\n",
            "\u001b[1m51/51\u001b[0m \u001b[32m━━━━━━━━━━━━━━━━━━━━\u001b[0m\u001b[37m\u001b[0m \u001b[1m30s\u001b[0m 587ms/step - accuracy: 1.0000 - loss: 1.5248e-26 - val_accuracy: 1.0000 - val_loss: 5.8005e-34\n",
            "Epoch 9/10\n",
            "\u001b[1m51/51\u001b[0m \u001b[32m━━━━━━━━━━━━━━━━━━━━\u001b[0m\u001b[37m\u001b[0m \u001b[1m30s\u001b[0m 581ms/step - accuracy: 1.0000 - loss: 1.3594e-25 - val_accuracy: 1.0000 - val_loss: 5.8005e-34\n",
            "Epoch 10/10\n",
            "\u001b[1m51/51\u001b[0m \u001b[32m━━━━━━━━━━━━━━━━━━━━\u001b[0m\u001b[37m\u001b[0m \u001b[1m30s\u001b[0m 583ms/step - accuracy: 1.0000 - loss: 2.0345e-25 - val_accuracy: 1.0000 - val_loss: 5.8005e-34\n"
          ]
        }
      ]
    },
    {
      "cell_type": "code",
      "source": [
        "import matplotlib.pyplot as plt\n",
        "\n",
        "plt.plot(history.history['accuracy'], label='Eğitim Doğruluğu')\n",
        "plt.plot(history.history['val_accuracy'], label='Doğrulama Doğruluğu')\n",
        "plt.legend()\n",
        "plt.title('Doğruluk Grafiği')\n",
        "plt.show()\n"
      ],
      "metadata": {
        "colab": {
          "base_uri": "https://localhost:8080/",
          "height": 452
        },
        "id": "kBDxJ-6Tx78t",
        "outputId": "d7833ae9-c152-47f2-dc98-166c99ad63cb"
      },
      "execution_count": 12,
      "outputs": [
        {
          "output_type": "display_data",
          "data": {
            "text/plain": [
              "<Figure size 640x480 with 1 Axes>"
            ],
            "image/png": "[encoded data removed]"
          },
          "metadata": {}
        }
      ]
    },
    {
      "cell_type": "code",
      "source": [
        "from tensorflow.keras.preprocessing import image\n",
        "import numpy as np\n",
        "\n",
        "img_path = '/content/catt.jpg'\n",
        "img = image.load_img(img_path, target_size=(100, 100))\n",
        "img_array = image.img_to_array(img)\n",
        "img_array = np.expand_dims(img_array, axis=0) / 255.0\n",
        "\n",
        "prediction = model.predict(img_array)\n",
        "\n",
        "if prediction[0][0] > 0.5:\n",
        "    print(\"Köpek 🐶\")\n",
        "else:\n",
        "    print(\"Kedi 🐱\")\n"
      ],
      "metadata": {
        "colab": {
          "base_uri": "https://localhost:8080/"
        },
        "id": "UMXbPTbQyLh5",
        "outputId": "c53c7b37-1af5-4e0b-c59e-7ff32d569089"
      },
      "execution_count": 13,
      "outputs": [
        {
          "output_type": "stream",
          "name": "stdout",
          "text": [
            "\u001b[1m1/1\u001b[0m \u001b[32m━━━━━━━━━━━━━━━━━━━━\u001b[0m\u001b[37m\u001b[0m \u001b[1m0s\u001b[0m 141ms/step\n",
            "Kedi 🐱\n"
          ]
        }
      ]
    }
  ]
}